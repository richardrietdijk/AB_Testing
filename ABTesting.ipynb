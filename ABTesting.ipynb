{
 "cells": [
  {
   "cell_type": "markdown",
   "id": "810076ad-40f0-49c5-89a1-cc67bbbe262d",
   "metadata": {},
   "source": [
    "# AB Testing Case study\n",
    "\n",
    "In this analysis, I aim to evaluate the impact of altering the call-to-action button on our website. This test compares the click-through rates (CTR) for two different texts: 'Get your estimate' and 'Trade in now.' By running this test, we hope to determine if the new phrasing significantly increases user engagement.\n",
    "\n",
    "I am conducting an A/B test to evaluate the impact. Our business hypothesis is that this modification will result in at least a 10% increase in CTR.\n",
    "\n",
    "![Image](controlexperiment.png)"
   ]
  },
  {
   "cell_type": "markdown",
   "id": "dacfc334-a49a-4469-b993-317b17713aa0",
   "metadata": {},
   "source": [
    "Null Hypothesis (H₀): There is no statistically significant difference in CTR between the control group and the experimental group.\n",
    "\n",
    "Alternative Hypothesis (H₁): There is a statistically significant difference in CTR between the control group and the experimental group.\n",
    "\n",
    "$$\n",
    "\\left\\{\n",
    "\\begin{array}{ll}\n",
    "H_0: P_{\\text{con}} = P_{\\text{exp}} \\\\\n",
    "H_1: P_{\\text{con}} \\neq P_{\\text{exp}}\n",
    "\\end{array}\n",
    "\\right.\n",
    "$$\n"
   ]
  },
  {
   "cell_type": "markdown",
   "id": "85aff2a8-2b9a-4925-aeb3-e6438f3d02fc",
   "metadata": {},
   "source": [
    "## Library Imports"
   ]
  },
  {
   "cell_type": "code",
   "execution_count": 1,
   "id": "a1be70a0-7bb0-443e-b4ed-dfe2a5fc875a",
   "metadata": {},
   "outputs": [],
   "source": [
    "import numpy as np\n",
    "import pandas as pd\n",
    "from scipy.stats import norm\n",
    "import seaborn as sns\n",
    "import matplotlib.pyplot as plt"
   ]
  },
  {
   "cell_type": "markdown",
   "id": "f421f530-9ac9-4984-a472-7369477c280e",
   "metadata": {},
   "source": [
    "## Loading our Data\n",
    "We load our dataset to analyze user behavior on the landing page, which includes 20,000 observations with four columns: user_id, click (1 for clicked, 0 for not clicked), group (control or experimental), and timestamp.\n",
    "\n",
    "*(For the purposes of this case study demo, this data has been randomly generated.)*"
   ]
  },
  {
   "cell_type": "code",
   "execution_count": 15,
   "id": "a5b0fcfe-1204-4de1-95c6-99877ec93894",
   "metadata": {},
   "outputs": [
    {
     "data": {
      "text/html": [
       "<div>\n",
       "<style scoped>\n",
       "    .dataframe tbody tr th:only-of-type {\n",
       "        vertical-align: middle;\n",
       "    }\n",
       "\n",
       "    .dataframe tbody tr th {\n",
       "        vertical-align: top;\n",
       "    }\n",
       "\n",
       "    .dataframe thead th {\n",
       "        text-align: right;\n",
       "    }\n",
       "</style>\n",
       "<table border=\"1\" class=\"dataframe\">\n",
       "  <thead>\n",
       "    <tr style=\"text-align: right;\">\n",
       "      <th></th>\n",
       "      <th>user_id</th>\n",
       "      <th>click</th>\n",
       "      <th>group</th>\n",
       "      <th>timestamp</th>\n",
       "    </tr>\n",
       "  </thead>\n",
       "  <tbody>\n",
       "    <tr>\n",
       "      <th>0</th>\n",
       "      <td>1</td>\n",
       "      <td>1</td>\n",
       "      <td>exp</td>\n",
       "      <td>2024-01-01 00:00:00</td>\n",
       "    </tr>\n",
       "    <tr>\n",
       "      <th>1</th>\n",
       "      <td>2</td>\n",
       "      <td>0</td>\n",
       "      <td>exp</td>\n",
       "      <td>2024-01-01 00:01:00</td>\n",
       "    </tr>\n",
       "    <tr>\n",
       "      <th>2</th>\n",
       "      <td>3</td>\n",
       "      <td>1</td>\n",
       "      <td>exp</td>\n",
       "      <td>2024-01-01 00:02:00</td>\n",
       "    </tr>\n",
       "    <tr>\n",
       "      <th>3</th>\n",
       "      <td>4</td>\n",
       "      <td>0</td>\n",
       "      <td>exp</td>\n",
       "      <td>2024-01-01 00:03:00</td>\n",
       "    </tr>\n",
       "    <tr>\n",
       "      <th>4</th>\n",
       "      <td>5</td>\n",
       "      <td>1</td>\n",
       "      <td>exp</td>\n",
       "      <td>2024-01-01 00:04:00</td>\n",
       "    </tr>\n",
       "  </tbody>\n",
       "</table>\n",
       "</div>"
      ],
      "text/plain": [
       "   user_id  click group            timestamp\n",
       "0        1      1   exp  2024-01-01 00:00:00\n",
       "1        2      0   exp  2024-01-01 00:01:00\n",
       "2        3      1   exp  2024-01-01 00:02:00\n",
       "3        4      0   exp  2024-01-01 00:03:00\n",
       "4        5      1   exp  2024-01-01 00:04:00"
      ]
     },
     "execution_count": 15,
     "metadata": {},
     "output_type": "execute_result"
    }
   ],
   "source": [
    "# Load the data from the csv file\n",
    "df_ab_test = pd.read_csv(\"ab_test_click_data.csv\")\n",
    "df_ab_test.head()"
   ]
  },
  {
   "cell_type": "code",
   "execution_count": 16,
   "id": "501c7416-ca30-486f-ab5e-364f1a883488",
   "metadata": {},
   "outputs": [
    {
     "data": {
      "text/html": [
       "<div>\n",
       "<style scoped>\n",
       "    .dataframe tbody tr th:only-of-type {\n",
       "        vertical-align: middle;\n",
       "    }\n",
       "\n",
       "    .dataframe tbody tr th {\n",
       "        vertical-align: top;\n",
       "    }\n",
       "\n",
       "    .dataframe thead th {\n",
       "        text-align: right;\n",
       "    }\n",
       "</style>\n",
       "<table border=\"1\" class=\"dataframe\">\n",
       "  <thead>\n",
       "    <tr style=\"text-align: right;\">\n",
       "      <th></th>\n",
       "      <th>user_id</th>\n",
       "      <th>click</th>\n",
       "    </tr>\n",
       "  </thead>\n",
       "  <tbody>\n",
       "    <tr>\n",
       "      <th>count</th>\n",
       "      <td>20000.000000</td>\n",
       "      <td>20000.000000</td>\n",
       "    </tr>\n",
       "    <tr>\n",
       "      <th>mean</th>\n",
       "      <td>10000.500000</td>\n",
       "      <td>0.405250</td>\n",
       "    </tr>\n",
       "    <tr>\n",
       "      <th>std</th>\n",
       "      <td>5773.647028</td>\n",
       "      <td>0.490953</td>\n",
       "    </tr>\n",
       "    <tr>\n",
       "      <th>min</th>\n",
       "      <td>1.000000</td>\n",
       "      <td>0.000000</td>\n",
       "    </tr>\n",
       "    <tr>\n",
       "      <th>25%</th>\n",
       "      <td>5000.750000</td>\n",
       "      <td>0.000000</td>\n",
       "    </tr>\n",
       "    <tr>\n",
       "      <th>50%</th>\n",
       "      <td>10000.500000</td>\n",
       "      <td>0.000000</td>\n",
       "    </tr>\n",
       "    <tr>\n",
       "      <th>75%</th>\n",
       "      <td>15000.250000</td>\n",
       "      <td>1.000000</td>\n",
       "    </tr>\n",
       "    <tr>\n",
       "      <th>max</th>\n",
       "      <td>20000.000000</td>\n",
       "      <td>1.000000</td>\n",
       "    </tr>\n",
       "  </tbody>\n",
       "</table>\n",
       "</div>"
      ],
      "text/plain": [
       "            user_id         click\n",
       "count  20000.000000  20000.000000\n",
       "mean   10000.500000      0.405250\n",
       "std     5773.647028      0.490953\n",
       "min        1.000000      0.000000\n",
       "25%     5000.750000      0.000000\n",
       "50%    10000.500000      0.000000\n",
       "75%    15000.250000      1.000000\n",
       "max    20000.000000      1.000000"
      ]
     },
     "execution_count": 16,
     "metadata": {},
     "output_type": "execute_result"
    }
   ],
   "source": [
    "df_ab_test.describe() #Descriptive statistics"
   ]
  },
  {
   "cell_type": "markdown",
   "id": "e5990893-782d-4637-937a-0f8ea48b3813",
   "metadata": {},
   "source": [
    "We categorize the data by group (control vs. experimental) to observe the differences in click behavior."
   ]
  },
  {
   "cell_type": "code",
   "execution_count": 3,
   "id": "cad0c66c-c581-4596-bfa1-0c5734aee936",
   "metadata": {},
   "outputs": [
    {
     "data": {
      "text/html": [
       "<div>\n",
       "<style scoped>\n",
       "    .dataframe tbody tr th:only-of-type {\n",
       "        vertical-align: middle;\n",
       "    }\n",
       "\n",
       "    .dataframe tbody tr th {\n",
       "        vertical-align: top;\n",
       "    }\n",
       "\n",
       "    .dataframe thead th {\n",
       "        text-align: right;\n",
       "    }\n",
       "</style>\n",
       "<table border=\"1\" class=\"dataframe\">\n",
       "  <thead>\n",
       "    <tr style=\"text-align: right;\">\n",
       "      <th></th>\n",
       "      <th>user_id</th>\n",
       "      <th>click</th>\n",
       "    </tr>\n",
       "    <tr>\n",
       "      <th>group</th>\n",
       "      <th></th>\n",
       "      <th></th>\n",
       "    </tr>\n",
       "  </thead>\n",
       "  <tbody>\n",
       "    <tr>\n",
       "      <th>con</th>\n",
       "      <td>150005000</td>\n",
       "      <td>1989</td>\n",
       "    </tr>\n",
       "    <tr>\n",
       "      <th>exp</th>\n",
       "      <td>50005000</td>\n",
       "      <td>6116</td>\n",
       "    </tr>\n",
       "  </tbody>\n",
       "</table>\n",
       "</div>"
      ],
      "text/plain": [
       "         user_id  click\n",
       "group                  \n",
       "con    150005000   1989\n",
       "exp     50005000   6116"
      ]
     },
     "execution_count": 3,
     "metadata": {},
     "output_type": "execute_result"
    }
   ],
   "source": [
    "df_ab_test.groupby(\"group\").sum(\"click\")"
   ]
  },
  {
   "cell_type": "markdown",
   "id": "9eaac6d1-b757-40c7-8317-f6390b16371f",
   "metadata": {},
   "source": [
    "We create a bar chart to visually compare the click distribution between the two groups."
   ]
  },
  {
   "cell_type": "code",
   "execution_count": 4,
   "id": "edcc2482-6091-4252-9041-ea6d7e188c89",
   "metadata": {},
   "outputs": [
    {
     "data": {
      "image/png": "[encoded data removed]",
      "text/plain": [
       "<Figure size 1000x600 with 1 Axes>"
      ]
     },
     "metadata": {},
     "output_type": "display_data"
    }
   ],
   "source": [
    "\n",
    "#Plotting\n",
    "plt.figure(figsize=(10,6))\n",
    "ax = sns.countplot(x='group', hue='click', data=df_ab_test)\n",
    "plt.title('Click Distribution in Experimental and Control Groups')\n",
    "plt.xlabel('Group')\n",
    "plt.ylabel('Clicks')\n",
    "plt.legend(title='Click', labels=['No', 'Yes'])\n",
    "\n",
    "# Percentage Calculation for bar annotation\n",
    "group_counts = df_ab_test.groupby(['group']).size()\n",
    "group_click_counts = df_ab_test.groupby(['group', 'click']).size().reset_index(name='count')\n",
    "\n",
    "for p in ax.patches:\n",
    "    height = p.get_height()\n",
    "    # Find group and click type for current bar\n",
    "    group = 'exp' if p.get_x() < 0.5 else 'con'\n",
    "    click = 1 if p.get_x() % 1 > 0.5 else 0\n",
    "    total = group_counts.loc[group]\n",
    "    if height > 0 and total > 0:\n",
    "        percentage = 100 * height / total\n",
    "        ax.text(p.get_x() + p.get_width() / 2., height + 5, f'{percentage:.1f}%', ha=\"center\", color=\"black\", fontsize=12)\n",
    "\n",
    "plt.tight_layout()\n",
    "plt.show()"
   ]
  },
  {
   "cell_type": "markdown",
   "id": "2f8d383d-5d8b-4ec3-b9a3-95181bde51bb",
   "metadata": {},
   "source": [
    "This visualization reveals that 61.2% of users in the experimental group clicked the call-to-action button, while only 19.9% did so in the control group."
   ]
  },
  {
   "cell_type": "markdown",
   "id": "ffe21639-fa79-4cf0-9770-c08ba4e0a975",
   "metadata": {},
   "source": [
    "## Statistical Analysis Setup\n",
    "We set up the parameters for our hypothesis test:\n",
    "\n",
    "- $\\alpha = 0.05$ (significance level)\n",
    "- $\\delta = 0.1$ (minimum detectable effect / practical significance)"
   ]
  },
  {
   "cell_type": "code",
   "execution_count": 5,
   "id": "acf16086-9c5c-47e1-bb86-a6143e484e74",
   "metadata": {},
   "outputs": [],
   "source": [
    "alpha = 0.05\n",
    "delta = 0.1"
   ]
  },
  {
   "cell_type": "markdown",
   "id": "2859bb22-e815-4b6a-a4b7-a28484dea3b0",
   "metadata": {},
   "source": [
    "## Calculating clicks and users"
   ]
  },
  {
   "cell_type": "code",
   "execution_count": 6,
   "id": "5bf8a05e-f67e-40b3-8652-2eeb3714fd86",
   "metadata": {},
   "outputs": [
    {
     "name": "stdout",
     "output_type": "stream",
     "text": [
      "Number of Users in Control:  10000\n",
      "Number of Users Experimental:  10000\n",
      "Clicks in Control:  1989\n",
      "Clicks in Experimental:  6116\n"
     ]
    }
   ],
   "source": [
    "N_con = df_ab_test[df_ab_test[\"group\"] == \"con\"][\"user_id\"].count()\n",
    "N_exp = df_ab_test[df_ab_test[\"group\"] == \"exp\"][\"user_id\"].count()\n",
    "\n",
    "X_con = df_ab_test.groupby(\"group\")[\"click\"].sum().loc[\"con\"]\n",
    "X_exp = df_ab_test.groupby(\"group\")[\"click\"].sum().loc[\"exp\"]\n",
    "\n",
    "print(\"Number of Users in Control: \",N_con)\n",
    "print(\"Number of Users Experimental: \",N_exp)\n",
    "\n",
    "print(\"Clicks in Control: \",X_con)\n",
    "print(\"Clicks in Experimental: \",X_exp)"
   ]
  },
  {
   "cell_type": "markdown",
   "id": "b4b45e07-caa5-4563-9b26-82580b47895d",
   "metadata": {},
   "source": [
    "## Estimating Clickthrough Rates\n",
    "We calculate the clickthrough rates for both groups.\n",
    "\n",
    "$\\hat{p}_{\\text{con}} = \\frac{X_{\\text{con}}}{N_{\\text{con}}} = \\frac{\\# \\text{clicks}_{\\text{con}}}{\\# \\text{impressions}_{\\text{con}}}$\n",
    "\n",
    "$\\hat{p}_{\\text{exp}} = \\frac{X_{\\text{exp}}}{N_{\\text{exp}}} = \\frac{\\# \\text{clicks}_{\\text{exp}}}{\\# \\text{impressions}_{\\text{exp}}}$\n"
   ]
  },
  {
   "cell_type": "code",
   "execution_count": 7,
   "id": "7c30a295-d6b3-404b-94e0-9f69b2bea638",
   "metadata": {},
   "outputs": [
    {
     "name": "stdout",
     "output_type": "stream",
     "text": [
      "Click probability in the control group:  0.1989\n",
      "Click probability in the experimental group:  0.6116\n"
     ]
    }
   ],
   "source": [
    "p_con_hat = X_con/N_con\n",
    "p_exp_hat = X_exp/N_exp\n",
    "print(\"Click probability in the control group: \", p_con_hat)\n",
    "print(\"Click probability in the experimental group: \", p_exp_hat)"
   ]
  },
  {
   "cell_type": "markdown",
   "id": "bb1d6385-b156-4441-85e4-0fa1f9513519",
   "metadata": {},
   "source": [
    "## Pooled Click Probability\n",
    "We compute the pooled click probability across both groups.\n",
    "\n",
    "$\n",
    "\\hat{p}_{\\text{pooled}} = \\frac{X_{\\text{con}} + X_{\\text{exp}}}{N_{\\text{con}} + N_{\\text{exp}}} = \\frac{\\# \\text{clicks}_{\\text{con}} + \\# \\text{clicks}_{\\text{exp}}}{\\# \\text{impressions}_{\\text{con}} + \\# \\text{impressions}_{\\text{exp}}}\n",
    "$"
   ]
  },
  {
   "cell_type": "code",
   "execution_count": 8,
   "id": "fcc92e5e-1fd7-477d-9da4-ce2f477a2850",
   "metadata": {},
   "outputs": [],
   "source": [
    "#pooled click probability\n",
    "p_pooled_hat = (X_con+X_exp) / (N_con+N_exp)"
   ]
  },
  {
   "cell_type": "markdown",
   "id": "8ec720f7-a03f-4ee4-a5e5-3a2997a9a70b",
   "metadata": {},
   "source": [
    "## Pooled Variance\n",
    "\n",
    "$\n",
    "\\hat{S}^2_{\\text{pooled}} = \\hat{p}_{\\text{pooled}} \\left(1 - \\hat{p}_{\\text{pooled}}\\right) \\left(\\frac{1}{N_{\\text{con}}} + \\frac{1}{N_{\\text{exp}}}\\right)\n",
    "$"
   ]
  },
  {
   "cell_type": "code",
   "execution_count": 9,
   "id": "0ccf4523-ae9e-4c36-acb6-4edbd81c4717",
   "metadata": {},
   "outputs": [
    {
     "name": "stdout",
     "output_type": "stream",
     "text": [
      "p^_pooled is:  0.40525\n",
      "pooled_variance is:  4.82044875e-05\n"
     ]
    }
   ],
   "source": [
    "pooled_variance = p_pooled_hat * (1-p_pooled_hat) * (1/N_con + 1/N_exp)\n",
    "print(\"p^_pooled is: \", p_pooled_hat)\n",
    "print(\"pooled_variance is: \", pooled_variance)"
   ]
  },
  {
   "cell_type": "markdown",
   "id": "d14989be-b405-4f1c-80ad-b7ce6a9ca5c5",
   "metadata": {},
   "source": [
    "## Standard Error and Test Statistics\n",
    "\n",
    "We calculate the standard error and Z-test statistic."
   ]
  },
  {
   "cell_type": "markdown",
   "id": "0eadf025-03ef-4bd5-a232-ddf91af008d4",
   "metadata": {},
   "source": [
    "The Standard Error:\n",
    "$\n",
    "SE = \\sqrt{\\hat{p}_{pooled} \\cdot (1 - \\hat{p}_{pooled}) \\cdot \\left( \\frac{1}{N_{\\text{con}}} + \\frac{1}{N_{\\text{exp}}} \\right)}\n",
    "$"
   ]
  },
  {
   "cell_type": "markdown",
   "id": "7c04fdc5-e8ef-48c6-b5c5-0d92aa02c4cf",
   "metadata": {},
   "source": [
    "The test statistics of the Z-test:  $\n",
    "Test\\_stat = \\frac{\\hat{p}_{con} - \\hat{p}_{exp}}{SE}\n",
    "$"
   ]
  },
  {
   "cell_type": "markdown",
   "id": "7ba7da7a-7d70-479c-b320-74a41a5142c9",
   "metadata": {},
   "source": [
    "The critical value of the Z-test: $\n",
    "Z_{crit} = \\Phi^{-1}(1 - \\frac{\\alpha}{2})\n",
    "$\n"
   ]
  },
  {
   "cell_type": "code",
   "execution_count": 10,
   "id": "88f6b9f0-9ea7-4be7-9b5a-0967d1538777",
   "metadata": {},
   "outputs": [
    {
     "name": "stdout",
     "output_type": "stream",
     "text": [
      "Standard Error:  0.006942945160376826\n",
      "Test statistics for 2-Sample Z-test is:  -59.44163326469381\n",
      "Z_critical value from Standard Normal distribution:  1.959963984540054\n"
     ]
    }
   ],
   "source": [
    "SE = np.sqrt(pooled_variance)\n",
    "print(\"Standard Error: \", SE)\n",
    "\n",
    "Test_stat = (p_con_hat - p_exp_hat) / SE\n",
    "print(\"Test statistic: \", Test_stat)\n",
    "\n",
    "Z_crit = norm.ppf(1-alpha/2)\n",
    "print(\"Z_critical value: \", Z_crit)"
   ]
  },
  {
   "cell_type": "markdown",
   "id": "df9d46ca-4112-419b-8243-2a14139ce89c",
   "metadata": {},
   "source": [
    "## Calculating P_values of the Z-test\n",
    "- A low p-value ($\n",
    "p \\leq 0.05\n",
    "$ at 5% significance level) indicates strong evidence against the null hypothesis, so we reject the null hypothesis.\n",
    "- A high p-value ($\n",
    "p > 0.05\n",
    "$) indicates weak evidence against the null hypothesis, so we fail to reject the null hypothesis.\n",
    "\n",
    "The p-value can be calculated using the following formulas:\n",
    "\n",
    "1. For a two-tailed test:\n",
    "\n",
    "$\n",
    "p\\text{-value} = P(Z \\leq -T) + P(Z \\geq T)\n",
    "$\n",
    "\n",
    "2. Alternatively, this can be expressed as:\n",
    "\n",
    "$\n",
    "p\\text{-value} = 2 \\times P(Z \\geq T)\n",
    "$"
   ]
  },
  {
   "cell_type": "code",
   "execution_count": 11,
   "id": "2b4b1062-2a7c-4a99-8001-55bda6e0ff9e",
   "metadata": {},
   "outputs": [
    {
     "name": "stdout",
     "output_type": "stream",
     "text": [
      "P-value of the 2-sample Z-test: 0.0\n",
      "There is statistical significance, indicating that the observed differences between the groups are unlikely to have occurred by chance alone. This suggests that the changes in the experimental group have a real effect compared to the control group.\n"
     ]
    }
   ],
   "source": [
    "#calculating p value\n",
    "p_value = 2 * norm.sf(abs(Test_stat))\n",
    "\n",
    "# function checking the statistical significance\n",
    "def is_statistical_significance(p_value, alpha):\n",
    "    \"\"\"\n",
    "    We assess whether there is statistical significance based on the p-value and alpha.\n",
    "\n",
    "    Arguments:\n",
    "    - p_value (float): The p-value resulting from a statistical test.\n",
    "    - alpha (float, optional): The significance level threshold used to determine statistical significance. Defaults to 0.05.\n",
    "\n",
    "    Returns:\n",
    "    - Prints the assessment of statistical significance.\n",
    "    \"\"\"\n",
    "\n",
    "    # Print the rounded p-value to 3 decimal places\n",
    "    print(f\"P-value of the 2-sample Z-test: {(p_value)}\")\n",
    "\n",
    "    # Determine statistical significance\n",
    "    if p_value <= alpha:\n",
    "        print(\"There is statistical significance, indicating that the observed differences between the groups are unlikely to have occurred by chance alone. This suggests that the changes in the experimental group have a real effect compared to the control group.\")\n",
    "    else:\n",
    "        print(\"There is no statistical significance, suggesting that the observed differences between the groups could have occurred by chance. This implies that the changes in the experimental group do not have a substantial effect compared to the control group.\")\n",
    "\n",
    "\n",
    "\n",
    "is_statistical_significance(p_value, alpha)"
   ]
  },
  {
   "cell_type": "markdown",
   "id": "4c2e3853-aace-4211-bbce-c1c6ad4a325d",
   "metadata": {},
   "source": [
    "Based on this analysis, we reject the null hypothesis, concluding that there is a statistically significant difference between the control and experimental groups at the 5% significance level."
   ]
  },
  {
   "cell_type": "code",
   "execution_count": 12,
   "id": "f5c1d515-95e2-4fda-aa82-0bc2735b2d94",
   "metadata": {},
   "outputs": [
    {
     "data": {
      "image/png": "[encoded data removed]",
      "text/plain": [
       "<Figure size 640x480 with 1 Axes>"
      ]
     },
     "metadata": {},
     "output_type": "display_data"
    }
   ],
   "source": [
    "# Parameters for the standard normal distribution\n",
    "mu = 0  # Mean\n",
    "sigma = 1  # Standard deviation\n",
    "x = np.linspace(mu - 3*sigma, mu + 3*sigma, 100)\n",
    "y = norm.pdf(x, mu, sigma)\n",
    "\n",
    "\n",
    "# Plotting the standard normal distribution\n",
    "plt.plot(x, y, label='Standard Normal Distribution')\n",
    "# Shade the rejection region for a two-tailed test\n",
    "plt.fill_between(x, y, where=(x > Z_crit) | (x < -Z_crit), color='red', alpha=0.5, label='Rejection Region')\n",
    "# Adding Test Statistic\n",
    "plt.axvline(Test_stat, color='green', linestyle='dashed', linewidth=2, label=f'Test Statistic = {Test_stat:.2f}')\n",
    "# Adding Z-critical values\n",
    "plt.axvline(Z_crit, color='blue', linestyle='dashed', linewidth=1, label=f'Z-critical = {Z_crit:.2f}')\n",
    "plt.axvline(-Z_crit, color='blue', linestyle='dashed', linewidth=1)\n",
    "\n",
    "# Adding labels and title\n",
    "plt.xlabel('Z-value')\n",
    "plt.ylabel('Probability Density')\n",
    "plt.title('Gaussian Distribution with Rejection Region')\n",
    "plt.legend()\n",
    "# Show plot\n",
    "plt.show()"
   ]
  },
  {
   "cell_type": "markdown",
   "id": "a40a2414-94e6-45a7-9224-8c35a4bae5c9",
   "metadata": {},
   "source": [
    "## Confidence Interval of the test"
   ]
  },
  {
   "cell_type": "code",
   "execution_count": 13,
   "id": "dbff34e3-20a3-46c2-8fd0-9af4ec14cff8",
   "metadata": {},
   "outputs": [
    {
     "name": "stdout",
     "output_type": "stream",
     "text": [
      "Confidence Interval of the 2 sample Z-test is:  [0.399, 0.426]\n"
     ]
    }
   ],
   "source": [
    "# Calculate the Confidence Interval (CI) for a 2-sample Z-test\n",
    "## Calculate the lower and upper bounds of the confidence interval\n",
    "CI_95 = [\n",
    "    float(round((p_exp_hat - p_con_hat) - SE*Z_crit, 3)),  # Lower bound of the CI, rounded to 3 decimal places\n",
    "    float(round((p_exp_hat - p_con_hat) + SE*Z_crit, 3))   # Upper bound of the CI, rounded to 3 decimal places\n",
    "]\n",
    "\n",
    "# Print the calculated confidence interval\n",
    "print(\"Confidence Interval of the 2 sample Z-test is: \", CI_95)\n",
    "\n",
    "# Here, the confidence interval provides a range of values within which the true difference between the experimental and control group proportions is likely to lie with a certain level of confidence (e.g., 95%).\n"
   ]
  },
  {
   "cell_type": "markdown",
   "id": "5a14e2e2-9bd8-4f5c-9450-86283804aebb",
   "metadata": {},
   "source": [
    "## Testing for Practical Significance in A/B Testing\n",
    "\n",
    "The Minimum Detectable Effect (MDE) helps ensure that even though we have statistical significance, the results are meaningful enough to justify business action."
   ]
  },
  {
   "cell_type": "code",
   "execution_count": 14,
   "id": "43ad210b-6ee4-4c45-aa0c-e27ad767afed",
   "metadata": {},
   "outputs": [
    {
     "name": "stdout",
     "output_type": "stream",
     "text": [
      "We have practical significance! \n",
      "With MDE of 0.1, The difference between Control and Experimental group is practically significant.\n",
      "Lower bound of 95% confidence interval is:  0.399\n"
     ]
    }
   ],
   "source": [
    "\n",
    "def is_Practically_significant(delta, CI_95):\n",
    "    \"\"\"\n",
    "    We assess here if the difference between Control and Experimental group is practically significant using the Minimum Detectable Effect (MDE) parameter from the Power Analysis.\n",
    "\n",
    "    Arguments:\n",
    "    - delta (float): The Minimum Detectable Effect (MDE) considered for practical significance.\n",
    "    - CI_95 (tuple): A tuple representing the lower and upper bounds of the 95% Confidence Interval.\n",
    "\n",
    "    Returns:\n",
    "    - Prints whether the experiment has practical significance based on the MDE and CI.\n",
    "    \"\"\"\n",
    "\n",
    "    # Extract lower bound of 95% Confidence Interval\n",
    "    lower_bound_CI = CI_95[0]\n",
    "\n",
    "\n",
    "    # Check if the lower bound of the CI is greater than or equal to delta\n",
    "    if lower_bound_CI >= delta:\n",
    "        print(f\"We have practical significance! \\nWith MDE of {delta}, The difference between Control and Experimental group is practically significant.\")\n",
    "        return True\n",
    "    else:\n",
    "        print(\"We don't have practical significance! \\nThe difference between Control and Experimental group is not practically significant.\")\n",
    "        return False\n",
    "\n",
    "\n",
    "\n",
    "# Call the function\n",
    "significance = is_Practically_significant(delta, CI_95)\n",
    "print(\"Lower bound of 95% confidence interval is: \", CI_95[0])"
   ]
  },
  {
   "cell_type": "markdown",
   "id": "927e00e8-6ad2-4415-b539-e9b06684d2f8",
   "metadata": {},
   "source": [
    "## Conclusion and Business Implications\n",
    "The A/B test results indicate a statistically significant improvement in the experimental group's click-through rate compared to the control group, with a p-value below 0.05, allowing us to reject the null hypothesis.\n",
    "\n",
    "Additionally, the test meets the 10% MDE threshold, confirming that the observed difference is both statistically and practically significant.\n",
    "\n",
    "These findings suggest that adopting the new call-to-action button text could lead to increased conversions, enhanced user engagement, and potential revenue growth for the business.\n"
   ]
  },
  {
   "cell_type": "code",
   "execution_count": null,
   "id": "3ee792cb-22df-46ae-af9b-d941788c99a1",
   "metadata": {},
   "outputs": [],
   "source": []
  }
 ],
 "metadata": {
  "kernelspec": {
   "display_name": "Python 3 (ipykernel)",
   "language": "python",
   "name": "python3"
  },
  "language_info": {
   "codemirror_mode": {
    "name": "ipython",
    "version": 3
   },
   "file_extension": ".py",
   "mimetype": "text/x-python",
   "name": "python",
   "nbconvert_exporter": "python",
   "pygments_lexer": "ipython3",
   "version": "3.12.6"
  }
 },
 "nbformat": 4,
 "nbformat_minor": 5
}
